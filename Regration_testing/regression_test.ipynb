{
 "cells": [
  {
   "cell_type": "markdown",
   "metadata": {},
   "source": [
    "# Regression Testing"
   ]
  },
  {
   "cell_type": "code",
   "execution_count": 196,
   "metadata": {},
   "outputs": [],
   "source": [
    "import pandas as pd\n",
    "import matplotlib.pyplot as plt\n",
    "import seaborn as sns\n",
    "import numpy as np"
   ]
  },
  {
   "cell_type": "code",
   "execution_count": 125,
   "metadata": {},
   "outputs": [
    {
     "data": {
      "text/html": [
       "<div>\n",
       "<style scoped>\n",
       "    .dataframe tbody tr th:only-of-type {\n",
       "        vertical-align: middle;\n",
       "    }\n",
       "\n",
       "    .dataframe tbody tr th {\n",
       "        vertical-align: top;\n",
       "    }\n",
       "\n",
       "    .dataframe thead th {\n",
       "        text-align: right;\n",
       "    }\n",
       "</style>\n",
       "<table border=\"1\" class=\"dataframe\">\n",
       "  <thead>\n",
       "    <tr style=\"text-align: right;\">\n",
       "      <th></th>\n",
       "      <th>Id</th>\n",
       "      <th>OwnerUserId</th>\n",
       "      <th>CreationDate</th>\n",
       "      <th>ClosedDate</th>\n",
       "      <th>Score</th>\n",
       "      <th>Title</th>\n",
       "      <th>Body</th>\n",
       "    </tr>\n",
       "  </thead>\n",
       "  <tbody>\n",
       "    <tr>\n",
       "      <th>1</th>\n",
       "      <td>90</td>\n",
       "      <td>58.0</td>\n",
       "      <td>2008-08-01T14:41:24Z</td>\n",
       "      <td>2012-12-26T03:45:49Z</td>\n",
       "      <td>144</td>\n",
       "      <td>Good branching and merging tutorials for Torto...</td>\n",
       "      <td>&lt;p&gt;Are there any really good tutorials explain...</td>\n",
       "    </tr>\n",
       "    <tr>\n",
       "      <th>6</th>\n",
       "      <td>470</td>\n",
       "      <td>71.0</td>\n",
       "      <td>2008-08-02T15:11:47Z</td>\n",
       "      <td>2016-03-26T05:23:29Z</td>\n",
       "      <td>13</td>\n",
       "      <td>Homegrown consumption of web services</td>\n",
       "      <td>&lt;p&gt;I've been writing a few web services for a ...</td>\n",
       "    </tr>\n",
       "  </tbody>\n",
       "</table>\n",
       "</div>"
      ],
      "text/plain": [
       "    Id  OwnerUserId          CreationDate            ClosedDate  Score  \\\n",
       "1   90         58.0  2008-08-01T14:41:24Z  2012-12-26T03:45:49Z    144   \n",
       "6  470         71.0  2008-08-02T15:11:47Z  2016-03-26T05:23:29Z     13   \n",
       "\n",
       "                                               Title  \\\n",
       "1  Good branching and merging tutorials for Torto...   \n",
       "6              Homegrown consumption of web services   \n",
       "\n",
       "                                                Body  \n",
       "1  <p>Are there any really good tutorials explain...  \n",
       "6  <p>I've been writing a few web services for a ...  "
      ]
     },
     "execution_count": 125,
     "metadata": {},
     "output_type": "execute_result"
    }
   ],
   "source": [
    "reg_question = pd.read_csv(\"/home/pranavhegde/Downloads/Stack/Questions.csv\", nrows=10000,usecols =['Id', 'OwnerUserId', 'CreationDate', 'ClosedDate', 'Score','Title','Body'],encoding='latin1')\n",
    "reg_question = reg_question.dropna()\n",
    "reg_question.head(2)"
   ]
  },
  {
   "cell_type": "code",
   "execution_count": 126,
   "metadata": {},
   "outputs": [
    {
     "data": {
      "text/html": [
       "<div>\n",
       "<style scoped>\n",
       "    .dataframe tbody tr th:only-of-type {\n",
       "        vertical-align: middle;\n",
       "    }\n",
       "\n",
       "    .dataframe tbody tr th {\n",
       "        vertical-align: top;\n",
       "    }\n",
       "\n",
       "    .dataframe thead th {\n",
       "        text-align: right;\n",
       "    }\n",
       "</style>\n",
       "<table border=\"1\" class=\"dataframe\">\n",
       "  <thead>\n",
       "    <tr style=\"text-align: right;\">\n",
       "      <th></th>\n",
       "      <th>Id</th>\n",
       "      <th>OwnerUserId</th>\n",
       "      <th>CreationDate</th>\n",
       "      <th>ParentId</th>\n",
       "      <th>Score</th>\n",
       "      <th>Body</th>\n",
       "    </tr>\n",
       "  </thead>\n",
       "  <tbody>\n",
       "    <tr>\n",
       "      <th>0</th>\n",
       "      <td>92</td>\n",
       "      <td>61.0</td>\n",
       "      <td>2008-08-01T14:45:37Z</td>\n",
       "      <td>90</td>\n",
       "      <td>13</td>\n",
       "      <td>&lt;p&gt;&lt;a href=\"http://svnbook.red-bean.com/\"&gt;Vers...</td>\n",
       "    </tr>\n",
       "    <tr>\n",
       "      <th>1</th>\n",
       "      <td>124</td>\n",
       "      <td>26.0</td>\n",
       "      <td>2008-08-01T16:09:47Z</td>\n",
       "      <td>80</td>\n",
       "      <td>12</td>\n",
       "      <td>&lt;p&gt;I wound up using this. It is a kind of a ha...</td>\n",
       "    </tr>\n",
       "  </tbody>\n",
       "</table>\n",
       "</div>"
      ],
      "text/plain": [
       "    Id  OwnerUserId          CreationDate  ParentId  Score  \\\n",
       "0   92         61.0  2008-08-01T14:45:37Z        90     13   \n",
       "1  124         26.0  2008-08-01T16:09:47Z        80     12   \n",
       "\n",
       "                                                Body  \n",
       "0  <p><a href=\"http://svnbook.red-bean.com/\">Vers...  \n",
       "1  <p>I wound up using this. It is a kind of a ha...  "
      ]
     },
     "execution_count": 126,
     "metadata": {},
     "output_type": "execute_result"
    }
   ],
   "source": [
    "reg_Answers= pd.read_csv(\"/home/pranavhegde/Downloads/Stack/Answers.csv\", nrows=10000,usecols =['Id', 'OwnerUserId', 'CreationDate', 'ParentId', 'Score','Body'],encoding='latin1')\n",
    "reg_Answers = reg_Answers.dropna()\n",
    "reg_Answers.head(2)"
   ]
  },
  {
   "cell_type": "code",
   "execution_count": 127,
   "metadata": {},
   "outputs": [
    {
     "data": {
      "text/html": [
       "<div>\n",
       "<style scoped>\n",
       "    .dataframe tbody tr th:only-of-type {\n",
       "        vertical-align: middle;\n",
       "    }\n",
       "\n",
       "    .dataframe tbody tr th {\n",
       "        vertical-align: top;\n",
       "    }\n",
       "\n",
       "    .dataframe thead th {\n",
       "        text-align: right;\n",
       "    }\n",
       "</style>\n",
       "<table border=\"1\" class=\"dataframe\">\n",
       "  <thead>\n",
       "    <tr style=\"text-align: right;\">\n",
       "      <th></th>\n",
       "      <th>Id</th>\n",
       "      <th>Tag</th>\n",
       "    </tr>\n",
       "  </thead>\n",
       "  <tbody>\n",
       "    <tr>\n",
       "      <th>0</th>\n",
       "      <td>80</td>\n",
       "      <td>flex</td>\n",
       "    </tr>\n",
       "    <tr>\n",
       "      <th>1</th>\n",
       "      <td>80</td>\n",
       "      <td>actionscript-3</td>\n",
       "    </tr>\n",
       "  </tbody>\n",
       "</table>\n",
       "</div>"
      ],
      "text/plain": [
       "   Id             Tag\n",
       "0  80            flex\n",
       "1  80  actionscript-3"
      ]
     },
     "execution_count": 127,
     "metadata": {},
     "output_type": "execute_result"
    }
   ],
   "source": [
    "reg_Tags= pd.read_csv(\"/home/pranavhegde/Downloads/Stack/Tags.csv\", nrows=10000,usecols =['Id', 'Tag'],encoding='latin1')\n",
    "reg_Tags = reg_Tags.dropna()\n",
    "reg_Tags.head(2)"
   ]
  },
  {
   "cell_type": "code",
   "execution_count": 128,
   "metadata": {},
   "outputs": [
    {
     "name": "stdout",
     "output_type": "stream",
     "text": [
      "['Id', 'OwnerUserId', 'CreationDate', 'ClosedDate', 'Score', 'Title', 'Body']\n"
     ]
    }
   ],
   "source": [
    "# Columns list\n",
    "print(reg_question.columns.tolist())"
   ]
  },
  {
   "cell_type": "code",
   "execution_count": 129,
   "metadata": {},
   "outputs": [
    {
     "name": "stdout",
     "output_type": "stream",
     "text": [
      "['Id', 'OwnerUserId', 'CreationDate', 'ParentId', 'Score', 'Body']\n"
     ]
    }
   ],
   "source": [
    "# Columns list\n",
    "print(reg_Answers.columns.tolist())"
   ]
  },
  {
   "cell_type": "code",
   "execution_count": 130,
   "metadata": {},
   "outputs": [
    {
     "name": "stdout",
     "output_type": "stream",
     "text": [
      "['Id', 'Tag']\n"
     ]
    }
   ],
   "source": [
    "# Columns list\n",
    "print(reg_Tags.columns.tolist())"
   ]
  },
  {
   "cell_type": "code",
   "execution_count": 131,
   "metadata": {},
   "outputs": [
    {
     "data": {
      "image/png": "[encoded data removed]",
      "text/plain": [
       "<Figure size 432x432 with 1 Axes>"
      ]
     },
     "metadata": {
      "needs_background": "light"
     },
     "output_type": "display_data"
    }
   ],
   "source": [
    "# Barplot for Number Scores Given for the Questions\n",
    "plt.figure(figsize=(6,6))\n",
    "sns.countplot(x='Score',data=reg_question);"
   ]
  },
  {
   "cell_type": "code",
   "execution_count": 132,
   "metadata": {},
   "outputs": [
    {
     "data": {
      "image/png": "[encoded data removed]",
      "text/plain": [
       "<Figure size 432x432 with 1 Axes>"
      ]
     },
     "metadata": {
      "needs_background": "light"
     },
     "output_type": "display_data"
    }
   ],
   "source": [
    "# Barplot for Number Scores Given for the Answers\n",
    "plt.figure(figsize=(6,6))\n",
    "sns.countplot(x='Score',data=reg_Answers);"
   ]
  },
  {
   "cell_type": "code",
   "execution_count": 133,
   "metadata": {},
   "outputs": [
    {
     "name": "stdout",
     "output_type": "stream",
     "text": [
      "Total number of questions 66\n"
     ]
    },
    {
     "data": {
      "text/plain": [
       "Text(0, 0.5, 'Number of tags')"
      ]
     },
     "execution_count": 133,
     "metadata": {},
     "output_type": "execute_result"
    },
    {
     "data": {
      "image/png": "[encoded data removed]",
      "text/plain": [
       "<Figure size 576x360 with 1 Axes>"
      ]
     },
     "metadata": {
      "needs_background": "light"
     },
     "output_type": "display_data"
    }
   ],
   "source": [
    "plt.figure(figsize=(8,5))\n",
    "counts = reg_Tags['Tag'].value_counts()\n",
    "counts = counts.value_counts()\n",
    "print(\"Total number of questions \" + str(len(counts)))\n",
    "sns.barplot(x=counts,y=counts.index)\n",
    "plt.xlabel(\"Number of questions\")\n",
    "plt.ylabel(\"Number of tags\")"
   ]
  },
  {
   "cell_type": "code",
   "execution_count": 134,
   "metadata": {},
   "outputs": [],
   "source": [
    "#Regression Model\n",
    "# These are the columns which are independant variables\n",
    "colm1 = ['Id']"
   ]
  },
  {
   "cell_type": "code",
   "execution_count": 135,
   "metadata": {},
   "outputs": [],
   "source": [
    "X = reg_question[colm1]\n",
    "y = reg_question['Score']"
   ]
  },
  {
   "cell_type": "code",
   "execution_count": 136,
   "metadata": {},
   "outputs": [
    {
     "name": "stderr",
     "output_type": "stream",
     "text": [
      "/usr/lib/python3/dist-packages/pandas/core/frame.py:4252: SettingWithCopyWarning: \n",
      "A value is trying to be set on a copy of a slice from a DataFrame\n",
      "\n",
      "See the caveats in the documentation: http://pandas.pydata.org/pandas-docs/stable/user_guide/indexing.html#returning-a-view-versus-a-copy\n",
      "  return super().fillna(\n"
     ]
    }
   ],
   "source": [
    "# If anything has empty value then fill it with 0.0\n",
    "X.fillna(0.0,inplace=True) "
   ]
  },
  {
   "cell_type": "code",
   "execution_count": 137,
   "metadata": {},
   "outputs": [],
   "source": [
    "# Split the dataset for training and testing\n",
    "from sklearn.model_selection import train_test_split\n",
    "train_X, test_X, train_y, test_y = train_test_split(X,y,test_size = 0.3, random_state = 42)"
   ]
  },
  {
   "cell_type": "code",
   "execution_count": 138,
   "metadata": {},
   "outputs": [
    {
     "name": "stderr",
     "output_type": "stream",
     "text": [
      "/home/pranavhegde/.local/lib/python3.8/site-packages/sklearn/linear_model/_logistic.py:762: ConvergenceWarning: lbfgs failed to converge (status=1):\n",
      "STOP: TOTAL NO. of ITERATIONS REACHED LIMIT.\n",
      "\n",
      "Increase the number of iterations (max_iter) or scale the data as shown in:\n",
      "    https://scikit-learn.org/stable/modules/preprocessing.html\n",
      "Please also refer to the documentation for alternative solver options:\n",
      "    https://scikit-learn.org/stable/modules/linear_model.html#logistic-regression\n",
      "  n_iter_i = _check_optimize_result(\n",
      "/home/pranavhegde/.local/lib/python3.8/site-packages/sklearn/linear_model/_logistic.py:762: ConvergenceWarning: lbfgs failed to converge (status=1):\n",
      "STOP: TOTAL NO. of ITERATIONS REACHED LIMIT.\n",
      "\n",
      "Increase the number of iterations (max_iter) or scale the data as shown in:\n",
      "    https://scikit-learn.org/stable/modules/preprocessing.html\n",
      "Please also refer to the documentation for alternative solver options:\n",
      "    https://scikit-learn.org/stable/modules/linear_model.html#logistic-regression\n",
      "  n_iter_i = _check_optimize_result(\n",
      "/home/pranavhegde/.local/lib/python3.8/site-packages/sklearn/linear_model/_logistic.py:762: ConvergenceWarning: lbfgs failed to converge (status=1):\n",
      "STOP: TOTAL NO. of ITERATIONS REACHED LIMIT.\n",
      "\n",
      "Increase the number of iterations (max_iter) or scale the data as shown in:\n",
      "    https://scikit-learn.org/stable/modules/preprocessing.html\n",
      "Please also refer to the documentation for alternative solver options:\n",
      "    https://scikit-learn.org/stable/modules/linear_model.html#logistic-regression\n",
      "  n_iter_i = _check_optimize_result(\n",
      "/home/pranavhegde/.local/lib/python3.8/site-packages/sklearn/linear_model/_logistic.py:762: ConvergenceWarning: lbfgs failed to converge (status=1):\n",
      "STOP: TOTAL NO. of ITERATIONS REACHED LIMIT.\n",
      "\n",
      "Increase the number of iterations (max_iter) or scale the data as shown in:\n",
      "    https://scikit-learn.org/stable/modules/preprocessing.html\n",
      "Please also refer to the documentation for alternative solver options:\n",
      "    https://scikit-learn.org/stable/modules/linear_model.html#logistic-regression\n",
      "  n_iter_i = _check_optimize_result(\n",
      "/home/pranavhegde/.local/lib/python3.8/site-packages/sklearn/linear_model/_logistic.py:762: ConvergenceWarning: lbfgs failed to converge (status=1):\n",
      "STOP: TOTAL NO. of ITERATIONS REACHED LIMIT.\n",
      "\n",
      "Increase the number of iterations (max_iter) or scale the data as shown in:\n",
      "    https://scikit-learn.org/stable/modules/preprocessing.html\n",
      "Please also refer to the documentation for alternative solver options:\n",
      "    https://scikit-learn.org/stable/modules/linear_model.html#logistic-regression\n",
      "  n_iter_i = _check_optimize_result(\n",
      "/home/pranavhegde/.local/lib/python3.8/site-packages/sklearn/linear_model/_logistic.py:762: ConvergenceWarning: lbfgs failed to converge (status=1):\n",
      "STOP: TOTAL NO. of ITERATIONS REACHED LIMIT.\n",
      "\n",
      "Increase the number of iterations (max_iter) or scale the data as shown in:\n",
      "    https://scikit-learn.org/stable/modules/preprocessing.html\n",
      "Please also refer to the documentation for alternative solver options:\n",
      "    https://scikit-learn.org/stable/modules/linear_model.html#logistic-regression\n",
      "  n_iter_i = _check_optimize_result(\n"
     ]
    }
   ],
   "source": [
    "from sklearn.linear_model import LogisticRegression\n",
    "from sklearn.metrics import accuracy_score\n",
    "L = [0.00001,0.001,0.01,0.1,1,10] # These are regularization constant(C) using in regression\n",
    "accuracy = {}\n",
    "for i in L:\n",
    "    LR = LogisticRegression(C=i)\n",
    "    LR.fit(train_X,train_y)\n",
    "    pred_y = LR.predict(test_X) # Prediction for testing dataset\n",
    "\n",
    "    accuracy[i]=100*accuracy_score(pred_y,test_y)\n"
   ]
  },
  {
   "cell_type": "code",
   "execution_count": 140,
   "metadata": {},
   "outputs": [
    {
     "data": {
      "text/plain": [
       "{1e-05: 4.545454545454546,\n",
       " 0.001: 4.545454545454546,\n",
       " 0.01: 4.545454545454546,\n",
       " 0.1: 4.545454545454546,\n",
       " 1: 4.545454545454546,\n",
       " 10: 4.545454545454546}"
      ]
     },
     "execution_count": 140,
     "metadata": {},
     "output_type": "execute_result"
    }
   ],
   "source": [
    "#Printing the accuracy\n",
    "accuracy"
   ]
  },
  {
   "cell_type": "code",
   "execution_count": 142,
   "metadata": {},
   "outputs": [
    {
     "name": "stdout",
     "output_type": "stream",
     "text": [
      "Counter({0: 9900, 1: 100})\n"
     ]
    },
    {
     "data": {
      "image/png": "[encoded data removed]",
      "text/plain": [
       "<Figure size 432x288 with 1 Axes>"
      ]
     },
     "metadata": {
      "needs_background": "light"
     },
     "output_type": "display_data"
    }
   ],
   "source": [
    "# Generate and plot a synthetic imbalanced classification dataset\n",
    "from collections import Counter\n",
    "from sklearn.datasets import make_classification\n",
    "from numpy import where\n",
    "# define dataset\n",
    "X, y = make_classification(n_samples=10000, n_features=2, n_redundant=0,\n",
    "\tn_clusters_per_class=1, weights=[0.99], flip_y=0, random_state=1)\n",
    "# summarize class distribution\n",
    "counter = Counter(y)\n",
    "print(counter)\n",
    "# scatter plot of examples by class label\n",
    "for label, _ in counter.items():\n",
    "\trow_ix = where(y == label)[0]\n",
    "\tpyplot.scatter(X[row_ix, 0], X[row_ix, 1], label=str(label))\n",
    "pyplot.legend()\n",
    "pyplot.show()"
   ]
  },
  {
   "cell_type": "code",
   "execution_count": 143,
   "metadata": {},
   "outputs": [
    {
     "name": "stdout",
     "output_type": "stream",
     "text": [
      "              precision    recall  f1-score   support\n",
      "\n",
      "          -3       0.00      0.00      0.00         1\n",
      "          -1       0.00      0.00      0.00         3\n",
      "           0       0.00      0.00      0.00        11\n",
      "           1       0.05      1.00      0.09         8\n",
      "           2       0.00      0.00      0.00        16\n",
      "           3       0.00      0.00      0.00         8\n",
      "           4       0.00      0.00      0.00         6\n",
      "           5       0.00      0.00      0.00         5\n",
      "           6       0.00      0.00      0.00         7\n",
      "           7       0.00      0.00      0.00         8\n",
      "           8       0.00      0.00      0.00         8\n",
      "           9       0.00      0.00      0.00         3\n",
      "          10       0.00      0.00      0.00         3\n",
      "          11       0.00      0.00      0.00         6\n",
      "          12       0.00      0.00      0.00         2\n",
      "          13       0.00      0.00      0.00         5\n",
      "          14       0.00      0.00      0.00         6\n",
      "          15       0.00      0.00      0.00         2\n",
      "          16       0.00      0.00      0.00         4\n",
      "          20       0.00      0.00      0.00         2\n",
      "          22       0.00      0.00      0.00         2\n",
      "          23       0.00      0.00      0.00         4\n",
      "          24       0.00      0.00      0.00         1\n",
      "          25       0.00      0.00      0.00         2\n",
      "          26       0.00      0.00      0.00         1\n",
      "          28       0.00      0.00      0.00         1\n",
      "          30       0.00      0.00      0.00         1\n",
      "          31       0.00      0.00      0.00         2\n",
      "          33       0.00      0.00      0.00         2\n",
      "          34       0.00      0.00      0.00         2\n",
      "          39       0.00      0.00      0.00         2\n",
      "          40       0.00      0.00      0.00         3\n",
      "          41       0.00      0.00      0.00         1\n",
      "          42       0.00      0.00      0.00         1\n",
      "          45       0.00      0.00      0.00         1\n",
      "          46       0.00      0.00      0.00         2\n",
      "          48       0.00      0.00      0.00         2\n",
      "          50       0.00      0.00      0.00         1\n",
      "          51       0.00      0.00      0.00         3\n",
      "          58       0.00      0.00      0.00         1\n",
      "          65       0.00      0.00      0.00         1\n",
      "          68       0.00      0.00      0.00         1\n",
      "          69       0.00      0.00      0.00         1\n",
      "          71       0.00      0.00      0.00         1\n",
      "          75       0.00      0.00      0.00         1\n",
      "          78       0.00      0.00      0.00         1\n",
      "          82       0.00      0.00      0.00         1\n",
      "          83       0.00      0.00      0.00         1\n",
      "          85       0.00      0.00      0.00         1\n",
      "          86       0.00      0.00      0.00         1\n",
      "          91       0.00      0.00      0.00         2\n",
      "          92       0.00      0.00      0.00         2\n",
      "          97       0.00      0.00      0.00         1\n",
      "         108       0.00      0.00      0.00         1\n",
      "         112       0.00      0.00      0.00         1\n",
      "         132       0.00      0.00      0.00         1\n",
      "         139       0.00      0.00      0.00         1\n",
      "         144       0.00      0.00      0.00         1\n",
      "         163       0.00      0.00      0.00         1\n",
      "         166       0.00      0.00      0.00         1\n",
      "         182       0.00      0.00      0.00         1\n",
      "         202       0.00      0.00      0.00         1\n",
      "         212       0.00      0.00      0.00         1\n",
      "         291       0.00      0.00      0.00         1\n",
      "         596       0.00      0.00      0.00         1\n",
      "\n",
      "    accuracy                           0.05       176\n",
      "   macro avg       0.00      0.02      0.00       176\n",
      "weighted avg       0.00      0.05      0.00       176\n",
      "\n"
     ]
    },
    {
     "name": "stderr",
     "output_type": "stream",
     "text": [
      "/home/pranavhegde/.local/lib/python3.8/site-packages/sklearn/metrics/_classification.py:1221: UndefinedMetricWarning: Precision and F-score are ill-defined and being set to 0.0 in labels with no predicted samples. Use `zero_division` parameter to control this behavior.\n",
      "  _warn_prf(average, modifier, msg_start, len(result))\n"
     ]
    }
   ],
   "source": [
    "from sklearn.metrics import classification_report\n",
    "print(classification_report(test_y, pred_y))"
   ]
  },
  {
   "cell_type": "code",
   "execution_count": 144,
   "metadata": {},
   "outputs": [
    {
     "data": {
      "text/plain": [
       "Text(0, 0.5, 'Accuracy')"
      ]
     },
     "execution_count": 144,
     "metadata": {},
     "output_type": "execute_result"
    },
    {
     "data": {
      "image/png": "[encoded data removed]",
      "text/plain": [
       "<Figure size 864x432 with 1 Axes>"
      ]
     },
     "metadata": {
      "needs_background": "light"
     },
     "output_type": "display_data"
    }
   ],
   "source": [
    "# C values vs Accuacy curve\n",
    "plt.figure(figsize=(12,6))\n",
    "plt.plot( list(accuracy.keys()), list(accuracy.values()), '--')\n",
    "plt.xticks(list(accuracy.keys()))\n",
    "plt.xlim(0,1)\n",
    "plt.xlabel(\"C Values\")\n",
    "plt.ylabel(\"Accuracy\")"
   ]
  },
  {
   "cell_type": "code",
   "execution_count": 174,
   "metadata": {},
   "outputs": [
    {
     "name": "stderr",
     "output_type": "stream",
     "text": [
      "/home/pranavhegde/.local/lib/python3.8/site-packages/sklearn/linear_model/_logistic.py:762: ConvergenceWarning: lbfgs failed to converge (status=1):\n",
      "STOP: TOTAL NO. of ITERATIONS REACHED LIMIT.\n",
      "\n",
      "Increase the number of iterations (max_iter) or scale the data as shown in:\n",
      "    https://scikit-learn.org/stable/modules/preprocessing.html\n",
      "Please also refer to the documentation for alternative solver options:\n",
      "    https://scikit-learn.org/stable/modules/linear_model.html#logistic-regression\n",
      "  n_iter_i = _check_optimize_result(\n"
     ]
    }
   ],
   "source": [
    "#Here we are taking the c value as 0.526 as constant\n",
    "LR = LogisticRegression(C=0.526)\n",
    "LR.fit(train_X,train_y)\n",
    "pred_y = LR.predict(test_X)"
   ]
  },
  {
   "cell_type": "code",
   "execution_count": 175,
   "metadata": {},
   "outputs": [
    {
     "data": {
      "text/plain": [
       "array([[0, 1, 1, ..., 1, 1, 1],\n",
       "       [0, 0, 0, ..., 0, 0, 0],\n",
       "       [0, 0, 0, ..., 0, 0, 0],\n",
       "       ...,\n",
       "       [0, 0, 0, ..., 0, 0, 0],\n",
       "       [0, 0, 0, ..., 0, 0, 0],\n",
       "       [0, 0, 0, ..., 0, 0, 0]])"
      ]
     },
     "execution_count": 175,
     "metadata": {},
     "output_type": "execute_result"
    }
   ],
   "source": [
    "# Confusion metrics\n",
    "from sklearn.metrics import confusion_matrix\n",
    "confusion_matrix(pred_y,test_X)"
   ]
  },
  {
   "cell_type": "code",
   "execution_count": 176,
   "metadata": {},
   "outputs": [
    {
     "data": {
      "text/plain": [
       "0.045454545454545456"
      ]
     },
     "execution_count": 176,
     "metadata": {},
     "output_type": "execute_result"
    }
   ],
   "source": [
    "# Final accuracy score\n",
    "from sklearn.metrics import accuracy_score\n",
    "accuracy_score(pred_y,test_y)"
   ]
  },
  {
   "cell_type": "code",
   "execution_count": 177,
   "metadata": {},
   "outputs": [
    {
     "data": {
      "text/plain": [
       "array([[-4.74878853e-06],\n",
       "       [ 3.37920517e-06],\n",
       "       [ 6.24083649e-06],\n",
       "       [ 8.93726733e-06],\n",
       "       [ 9.26313399e-06],\n",
       "       [ 9.20896665e-06],\n",
       "       [ 8.43559981e-06],\n",
       "       [ 8.00829507e-06],\n",
       "       [ 7.76877729e-06],\n",
       "       [ 7.58304218e-06],\n",
       "       [ 7.35707732e-06],\n",
       "       [ 5.35067890e-06],\n",
       "       [ 6.03720096e-06],\n",
       "       [ 6.66187214e-06],\n",
       "       [ 6.39302092e-06],\n",
       "       [ 5.49572014e-06],\n",
       "       [ 7.97535631e-07],\n",
       "       [ 5.15229291e-06],\n",
       "       [ 4.51038493e-06],\n",
       "       [ 5.77801210e-06],\n",
       "       [ 3.39917185e-06],\n",
       "       [ 2.22013161e-06],\n",
       "       [ 3.61803496e-06],\n",
       "       [ 4.85880643e-06],\n",
       "       [ 5.50014776e-06],\n",
       "       [ 1.71455708e-06],\n",
       "       [-1.15034531e-05],\n",
       "       [-1.04368605e-06],\n",
       "       [ 2.04182597e-06],\n",
       "       [ 4.86374773e-06],\n",
       "       [ 4.71506251e-06],\n",
       "       [ 3.19347798e-06],\n",
       "       [ 4.25868284e-06],\n",
       "       [ 2.83631334e-06],\n",
       "       [ 2.21795002e-06],\n",
       "       [ 5.52217913e-06],\n",
       "       [ 2.92627553e-06],\n",
       "       [-6.81272807e-06],\n",
       "       [ 2.93374800e-06],\n",
       "       [ 1.26467297e-06],\n",
       "       [-1.27130458e-05],\n",
       "       [ 4.06776256e-06],\n",
       "       [-1.50968190e-05],\n",
       "       [-1.61380948e-06],\n",
       "       [ 4.59511532e-06],\n",
       "       [-7.23441172e-06],\n",
       "       [ 1.59165118e-06],\n",
       "       [-6.54004225e-06],\n",
       "       [ 2.88802621e-06],\n",
       "       [ 2.10134397e-06],\n",
       "       [ 4.69980804e-06],\n",
       "       [ 2.12370309e-06],\n",
       "       [ 1.63453132e-06],\n",
       "       [ 2.38348819e-06],\n",
       "       [-4.02049548e-07],\n",
       "       [-2.44110870e-06],\n",
       "       [-2.20546864e-06],\n",
       "       [-5.86999357e-06],\n",
       "       [-2.10151489e-09],\n",
       "       [ 2.60296223e-06],\n",
       "       [ 9.71229650e-07],\n",
       "       [ 1.23136292e-07],\n",
       "       [-1.12837421e-06],\n",
       "       [ 1.29057370e-06],\n",
       "       [-2.84380402e-06],\n",
       "       [-7.94659487e-06],\n",
       "       [-4.43163079e-06],\n",
       "       [ 2.68647640e-06],\n",
       "       [-1.71647415e-06],\n",
       "       [ 1.31184675e-06],\n",
       "       [ 1.21444618e-06],\n",
       "       [ 2.41056082e-06],\n",
       "       [ 2.34328384e-06],\n",
       "       [-1.83896724e-06],\n",
       "       [-1.29746276e-05],\n",
       "       [ 8.93042239e-07],\n",
       "       [ 1.03319654e-06],\n",
       "       [-1.43987058e-05],\n",
       "       [-5.23302792e-06],\n",
       "       [ 1.35667613e-06],\n",
       "       [ 1.55672699e-06],\n",
       "       [-7.55373409e-06],\n",
       "       [ 1.07794225e-06],\n",
       "       [-1.04760067e-05],\n",
       "       [ 1.59330283e-06],\n",
       "       [ 3.38787143e-06],\n",
       "       [ 2.04252703e-06],\n",
       "       [ 1.96721644e-06],\n",
       "       [-2.06942398e-06],\n",
       "       [-1.19142882e-05],\n",
       "       [-2.00401051e-05],\n",
       "       [ 6.32086822e-07],\n",
       "       [ 1.06076568e-07],\n",
       "       [ 5.90312097e-07],\n",
       "       [ 1.90901889e-06],\n",
       "       [-1.43551244e-06],\n",
       "       [-1.81644230e-05],\n",
       "       [-7.74943163e-06],\n",
       "       [ 4.33663739e-07],\n",
       "       [-1.12100550e-05],\n",
       "       [-1.01290568e-05],\n",
       "       [-7.31676881e-06],\n",
       "       [-1.26479314e-06]])"
      ]
     },
     "execution_count": 177,
     "metadata": {},
     "output_type": "execute_result"
    }
   ],
   "source": [
    "# Contribution of each variable\n",
    "LR.coef_"
   ]
  },
  {
   "cell_type": "code",
   "execution_count": 183,
   "metadata": {},
   "outputs": [],
   "source": [
    "# # ROC and AUC\n",
    "# from sklearn.metrics import roc_auc_score\n",
    "# from sklearn.metrics import roc_curve\n",
    "# logit_roc_auc = roc_auc_score(pred_y, LR.predict(test_X))\n",
    "# fpr, tpr, thresholds = roc_curve(pred_y, LR.predict_proba(test_X)[:,1])\n",
    "# plt.figure()\n",
    "# plt.plot(fpr, tpr, label='Logistic Regression (area = %0.2f)' % logit_roc_auc)\n",
    "# plt.plot([0, 1], [0, 1],'r--')\n",
    "# plt.xlim([0.0, 1.0])\n",
    "# plt.ylim([0.0, 1.05])\n",
    "# plt.xlabel('False Positive Rate')\n",
    "# plt.ylabel('True Positive Rate')\n",
    "# plt.title('Logisic Regeression Curve')\n",
    "# plt.legend(loc=\"lower right\")\n",
    "# plt.savefig('Log_ROC')\n",
    "# plt.show()\n",
    "# # (pred_y,test_X)"
   ]
  },
  {
   "cell_type": "code",
   "execution_count": null,
   "metadata": {},
   "outputs": [],
   "source": []
  }
 ],
 "metadata": {
  "kernelspec": {
   "display_name": "Python 3",
   "language": "python",
   "name": "python3"
  },
  "language_info": {
   "codemirror_mode": {
    "name": "ipython",
    "version": 3
   },
   "file_extension": ".py",
   "mimetype": "text/x-python",
   "name": "python",
   "nbconvert_exporter": "python",
   "pygments_lexer": "ipython3",
   "version": "3.8.5"
  }
 },
 "nbformat": 4,
 "nbformat_minor": 4
}
